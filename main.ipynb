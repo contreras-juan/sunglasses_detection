{
 "cells": [
  {
   "cell_type": "markdown",
   "metadata": {},
   "source": [
    "# Clasificación de imágenes"
   ]
  },
  {
   "cell_type": "markdown",
   "metadata": {},
   "source": [
    "Este es un ejercicio de clasificación de imágenes por medio de redes neurolanes. Para ello, se utiliza el conjunto de imágenes <a href=\"https://archive.ics.uci.edu/ml/machine-learning-databases/faces-mld/faces.tar.Z\"> face.tar.Z </a>. Esta carpeta contiene 20 subcarpetas, cada una correspondiente a una persona diferente, y dentro de las cuales se encuentran un conjunto de fotos de la persona correspondiente, cada una representando diferentes patrones faciales. El patrón correspondiente que se presenta en la foto aparece etiquetado en el nombre de la imagen. Así, por ejemplo, an2i_left_angry_sunglasses.pgm corresponde a una foto en formato pgm de una persona mostrando su perfil izquierdo, mostrando una expresión facial de enojo y usa gafas.\n",
    "\n",
    "Para el ejercicio, se decidió programar una red neuronal para determinar si en una foto concreta, la persona usa gafas, o no."
   ]
  },
  {
   "cell_type": "code",
   "execution_count": 1,
   "metadata": {},
   "outputs": [],
   "source": [
    "# Importación de librerías\n",
    "\n",
    "import os                           # Para interactuar con el sistema interactivo\n",
    "import numpy as np                  # Para manejo de matrices y vectores\n",
    "# from skimage import io, transform\n",
    "\n",
    "import matplotlib.pyplot as plt     # Para graficar\n",
    "# import matplotlib.image as mpimg\n",
    "\n",
    "# Funciones de deep learning para programar la red neuronal\n",
    "from torch import nn\n",
    "import torch\n",
    "from torch.utils.data import Dataset, DataLoader\n",
    "from torchvision import datasets, transforms\n",
    "from torchvision import transforms, utils\n",
    "import torchvision.models as models\n",
    "import torch.optim as optim\n",
    "from torchvision.utils import make_grid\n",
    "import torch.nn.functional as F\n",
    "\n",
    "# Para importar imágenes\n",
    "import cv2\n",
    "\n",
    "# Importación de scripts externos\n",
    "from Net import *        # red neuronal\n",
    "from imshow import *     # graficador de imágenes pre procesadas"
   ]
  },
  {
   "cell_type": "markdown",
   "metadata": {},
   "source": [
    "Antes del procesamiento de las imágenes hay que tener en cuenta dos cosas. Primero, la librería `PIL` que es utilizada por `Pytorch` tiene una restricción respecto al tamaño de las imágenes que acepta para la importación de imágenes, por lo que antes es importante reducir el número de pixeles antes de procesar las imágenes. Segundo, dado que se pretende clasificar las imágenes según si la persona usa, o no, gafas, es necesario asignar en la carpeta de trabajo las imágenes a unas carpetas según la etiqueta de tener, o no, gafas (de acuerdo con el nombre de cada imagen). Para esto, si la imagen contiene la palabra \"sunglasses\" dentro de su nombre, es asignada a una carpeta, y de lo contrario, será asignada a otra carpeta.\n",
    "\n",
    "Adicionalmente, hay que tener en cuenta que en principio hay 20 carpetas con imágenes; por lo que estas hay que repartirlas entre un grupo de entrenamiento y uno de evaluación. En este ejercicio se asigna un 70% al primer conjunto. Así, se crea una carpeta con el nombre \"train\" en la que se encuentran dos carpetas, una para fotos de personas con gafas y otra para las fotos de personas sin gafas. Lo mismo se hace con una carpeta que se llama \"test\" en la que se encontrará el 30% de las imágenes para evaluación."
   ]
  },
  {
   "cell_type": "code",
   "execution_count": 2,
   "metadata": {},
   "outputs": [
    {
     "data": {
      "text/plain": [
       "['tammo',\n",
       " 'choon',\n",
       " 'kawamura',\n",
       " 'bpm',\n",
       " 'mitchell',\n",
       " 'phoebe',\n",
       " 'sz24',\n",
       " 'night',\n",
       " 'cheyer',\n",
       " 'ch4f',\n",
       " 'megak',\n",
       " 'steffi',\n",
       " 'at33',\n",
       " 'karyadi',\n",
       " 'kk49',\n",
       " 'saavik',\n",
       " 'boland',\n",
       " 'danieln',\n",
       " 'an2i',\n",
       " 'glickman']"
      ]
     },
     "execution_count": 2,
     "metadata": {},
     "output_type": "execute_result"
    }
   ],
   "source": [
    "folder = os.listdir('faces') # se accede al listado de carpetas\n",
    "folder"
   ]
  },
  {
   "cell_type": "code",
   "execution_count": 3,
   "metadata": {},
   "outputs": [],
   "source": [
    "# Programa para asignar imágenes de entrenamiento y evaluación a sus respectivas carpetas\n",
    "\n",
    "if not os.path.exists('datos'):\n",
    "\n",
    "    os.mkdir('datos') # crear carpeta de datos\n",
    "    os.mkdir('datos/train') # crear carpeta de entrenamiento\n",
    "    os.mkdir('datos/test') # crear carpeta de evaluación\n",
    "    \n",
    "    os.mkdir('datos/test/sunglasses') # crear carpeta para fotos de evaluación de personas con gafas\n",
    "    os.mkdir('datos/test/not_sunglasses') # crear carpeta para fotos de evaluación de personas sin gafas\n",
    "    \n",
    "    os.mkdir('datos/train/sunglasses') # crear carpeta para fotos de evaluación de personas con gafas\n",
    "    os.mkdir('datos/train/not_sunglasses') # crear carpeta para fotos de evaluación de personas sin gafas\n",
    "    \n",
    "    # programa de asignación de imágenes\n",
    "    i = 0\n",
    "    for j in folder:\n",
    "        i += 1\n",
    "        folder_2 = os.listdir('faces/' + j) # listado de imágenes en la carpeta\n",
    "\n",
    "        for k in folder_2:           \n",
    "            img_path = 'faces/' + j + '/' + k # ruta de almacenamiento de la imagen\n",
    "            img = cv2.imread(img_path) # se lee la imagen\n",
    "            img = np.full(img.shape, img,dtype=np.float32) # reducción de pixeles\n",
    "            \n",
    "            \n",
    "            if i <= 14: # condicional para el 70% para entrenamiento \n",
    "                if 'sunglasses' in k:\n",
    "                    new_img_path = 'datos/train/sunglasses/' + k # nueva ruta para la imagen\n",
    "                else:\n",
    "                    new_img_path = 'datos/train/not_sunglasses/'+ k # nueva ruta para la imagen\n",
    "                \n",
    "            else: # condicional para el 30% para evaluar\n",
    "                if 'sunglasses' in k:\n",
    "                    new_img_path = 'datos/test/sunglasses/' + k # nueva ruta para la imagen\n",
    "                else:\n",
    "                    new_img_path = 'datos/test/not_sunglasses/' + k # nueva ruta para la imagen\n",
    "\n",
    "\n",
    "            # Cambiar extensiones a .jpeg\n",
    "            new_img_path = new_img_path.replace('.pgm','.jpeg')\n",
    "            new_img_path = new_img_path.replace('.bad','.jpeg')\n",
    "             \n",
    "            # se guarda la imagen\n",
    "            cv2.imwrite(new_img_path, img)\n",
    "            \n",
    "            # se eliminan las imágenes viejas\n",
    "            os.remove('mg/path')\n",
    "    \n",
    "    # se elimina carpeta vieja de almacenamiento de las imágenes\n",
    "    os.remove('img')"
   ]
  },
  {
   "cell_type": "code",
   "execution_count": 4,
   "metadata": {},
   "outputs": [],
   "source": [
    "# Función de transformación de las imágenes\n",
    "transform = transforms.Compose([\n",
    "    transforms.Resize(64),\n",
    "    transforms.ToTensor(),\n",
    "    transforms.Normalize(mean=(0.4915, 0.4823, 0.4468),\n",
    "                         std=(0.2470, 0.2435, 0.2616))\n",
    "])"
   ]
  },
  {
   "cell_type": "code",
   "execution_count": 5,
   "metadata": {},
   "outputs": [],
   "source": [
    "train_set = datasets.ImageFolder('datos/train', transform = transform) # datos de entrenamiento\n",
    "test_set = datasets.ImageFolder('datos/test', transform = transform) # datos de evaluación\n",
    "\n",
    "# se cargan los datos en paquetes de 32 imágenes\n",
    "train_loader = DataLoader(train_set, batch_size=32, shuffle = True) \n",
    "test_loader = DataLoader(test_set, batch_size=32, shuffle = True)"
   ]
  },
  {
   "cell_type": "code",
   "execution_count": 6,
   "metadata": {},
   "outputs": [
    {
     "name": "stderr",
     "output_type": "stream",
     "text": [
      "/home/juan/anaconda3/lib/python3.7/site-packages/torch/cuda/__init__.py:52: UserWarning: CUDA initialization: Found no NVIDIA driver on your system. Please check that you have an NVIDIA GPU and installed a driver from http://www.nvidia.com/Download/index.aspx (Triggered internally at  /pytorch/c10/cuda/CUDAFunctions.cpp:100.)\n",
      "  return torch._C._cuda_getDeviceCount() > 0\n"
     ]
    },
    {
     "name": "stdout",
     "output_type": "stream",
     "text": [
      "cpu\n",
      "epoch: 0 / 100, loss:  0.720392\n",
      "epoch: 1 / 100, loss:  0.748515\n",
      "epoch: 2 / 100, loss:  0.862347\n",
      "epoch: 3 / 100, loss:  0.678699\n",
      "epoch: 4 / 100, loss:  0.822210\n",
      "epoch: 5 / 100, loss:  0.761977\n",
      "epoch: 6 / 100, loss:  0.672786\n",
      "epoch: 7 / 100, loss:  0.448536\n",
      "epoch: 8 / 100, loss:  0.451425\n",
      "epoch: 9 / 100, loss:  0.279817\n",
      "epoch: 10 / 100, loss:  0.180873\n",
      "epoch: 11 / 100, loss:  0.230851\n",
      "epoch: 12 / 100, loss:  0.129529\n",
      "epoch: 13 / 100, loss:  0.152180\n",
      "epoch: 14 / 100, loss:  0.105830\n",
      "epoch: 15 / 100, loss:  0.019459\n",
      "epoch: 16 / 100, loss:  0.119878\n",
      "epoch: 17 / 100, loss:  0.035273\n",
      "epoch: 18 / 100, loss:  0.025972\n",
      "epoch: 19 / 100, loss:  0.068558\n",
      "epoch: 20 / 100, loss:  0.015521\n",
      "epoch: 21 / 100, loss:  0.010585\n",
      "epoch: 22 / 100, loss:  0.101342\n",
      "epoch: 23 / 100, loss:  0.073188\n",
      "epoch: 24 / 100, loss:  0.004916\n",
      "epoch: 25 / 100, loss:  0.000111\n",
      "epoch: 26 / 100, loss:  0.027140\n",
      "epoch: 27 / 100, loss:  0.005241\n",
      "epoch: 28 / 100, loss:  0.004508\n",
      "epoch: 29 / 100, loss:  0.014502\n",
      "epoch: 30 / 100, loss:  0.000197\n",
      "epoch: 31 / 100, loss:  0.001572\n",
      "epoch: 32 / 100, loss:  0.000720\n",
      "epoch: 33 / 100, loss:  0.000181\n",
      "epoch: 34 / 100, loss:  0.000682\n",
      "epoch: 35 / 100, loss:  0.000334\n",
      "epoch: 36 / 100, loss:  0.000353\n",
      "epoch: 37 / 100, loss:  0.005554\n",
      "epoch: 38 / 100, loss:  0.004825\n",
      "epoch: 39 / 100, loss:  0.009658\n",
      "epoch: 40 / 100, loss:  0.000524\n",
      "epoch: 41 / 100, loss:  0.001974\n",
      "epoch: 42 / 100, loss:  0.000895\n",
      "epoch: 43 / 100, loss:  0.006668\n",
      "epoch: 44 / 100, loss:  0.000447\n",
      "epoch: 45 / 100, loss:  0.000455\n",
      "epoch: 46 / 100, loss:  0.001643\n",
      "epoch: 47 / 100, loss:  0.000012\n",
      "epoch: 48 / 100, loss:  0.001026\n",
      "epoch: 49 / 100, loss:  0.000677\n",
      "epoch: 50 / 100, loss:  0.000034\n",
      "epoch: 51 / 100, loss:  0.003018\n",
      "epoch: 52 / 100, loss:  0.000202\n",
      "epoch: 53 / 100, loss:  0.000357\n",
      "epoch: 54 / 100, loss:  0.000510\n",
      "epoch: 55 / 100, loss:  0.001882\n",
      "epoch: 56 / 100, loss:  0.000033\n",
      "epoch: 57 / 100, loss:  0.000274\n",
      "epoch: 58 / 100, loss:  0.000160\n",
      "epoch: 59 / 100, loss:  0.000000\n",
      "epoch: 60 / 100, loss:  0.000004\n",
      "epoch: 61 / 100, loss:  0.000021\n",
      "epoch: 62 / 100, loss:  0.000115\n",
      "epoch: 63 / 100, loss:  0.000117\n",
      "epoch: 64 / 100, loss:  0.000004\n",
      "epoch: 65 / 100, loss:  0.001136\n",
      "epoch: 66 / 100, loss:  0.002388\n",
      "epoch: 67 / 100, loss:  0.001558\n",
      "epoch: 68 / 100, loss:  0.002194\n",
      "epoch: 69 / 100, loss:  0.000573\n",
      "epoch: 70 / 100, loss:  0.000267\n",
      "epoch: 71 / 100, loss:  0.000019\n",
      "epoch: 72 / 100, loss:  0.000002\n",
      "epoch: 73 / 100, loss:  0.000004\n",
      "epoch: 74 / 100, loss:  0.000132\n",
      "epoch: 75 / 100, loss:  0.000278\n",
      "epoch: 76 / 100, loss:  0.000010\n",
      "epoch: 77 / 100, loss:  0.000191\n",
      "epoch: 78 / 100, loss:  0.000155\n",
      "epoch: 79 / 100, loss:  0.000484\n",
      "epoch: 80 / 100, loss:  0.000000\n",
      "epoch: 81 / 100, loss:  0.000093\n",
      "epoch: 82 / 100, loss:  0.000167\n",
      "epoch: 83 / 100, loss:  0.000000\n",
      "epoch: 84 / 100, loss:  0.000220\n",
      "epoch: 85 / 100, loss:  0.000009\n",
      "epoch: 86 / 100, loss:  0.000011\n",
      "epoch: 87 / 100, loss:  0.000025\n",
      "epoch: 88 / 100, loss:  0.000065\n",
      "epoch: 89 / 100, loss:  0.000451\n",
      "epoch: 90 / 100, loss:  0.000252\n",
      "epoch: 91 / 100, loss:  0.000175\n",
      "epoch: 92 / 100, loss:  0.000232\n",
      "epoch: 93 / 100, loss:  0.000021\n",
      "epoch: 94 / 100, loss:  0.000566\n",
      "epoch: 95 / 100, loss:  0.001417\n",
      "epoch: 96 / 100, loss:  0.001297\n",
      "epoch: 97 / 100, loss:  0.002750\n",
      "epoch: 98 / 100, loss:  0.000006\n",
      "epoch: 99 / 100, loss:  0.000021\n"
     ]
    }
   ],
   "source": [
    "# revisar la presencia de tarjeta gráfica\n",
    "device = 'cuda' if torch.cuda.is_available() else 'cpu'\n",
    "print(device)\n",
    "\n",
    "# se inicializa la red neuronal en la unidad de procesamiento\n",
    "model = Net(32).to(device)\n",
    "\n",
    "optimizer = optim.SGD(model.parameters(), lr = 0.02)\n",
    "loss_function = nn.NLLLoss()\n",
    "\n",
    "n_epoch = 100\n",
    "\n",
    "for epoch in range(n_epoch):\n",
    "    for inputs, targets in train_loader:\n",
    "        inputs, targets = inputs.to(device), targets.to(device)\n",
    "\n",
    "        outputs = model(inputs)\n",
    "        loss = loss_function(outputs, targets)\n",
    "\n",
    "        optimizer.zero_grad()\n",
    "        loss.backward()\n",
    "        optimizer.step()\n",
    "\n",
    "    print(f'epoch: {epoch} / {n_epoch}, loss: {float(loss): 4f}')"
   ]
  },
  {
   "cell_type": "code",
   "execution_count": 7,
   "metadata": {},
   "outputs": [
    {
     "name": "stdout",
     "output_type": "stream",
     "text": [
      "Accuracy:  0.8474\n"
     ]
    }
   ],
   "source": [
    "correct = 0\n",
    "total = 0\n",
    "\n",
    "with torch.no_grad():\n",
    "    for inputs, targets in test_loader:\n",
    "        inputs, targets = inputs.to(device), targets.to(device)\n",
    "        outputs = model(inputs)\n",
    "        _, predicted = torch.max(outputs, dim=1)\n",
    "        total += targets.shape[0]\n",
    "        correct += int((predicted==targets).sum())\n",
    "        \n",
    "print(f'Accuracy: {(correct/total): .4f}')"
   ]
  },
  {
   "cell_type": "code",
   "execution_count": 8,
   "metadata": {},
   "outputs": [],
   "source": [
    "class_names = ['Not sunglasses', 'Sunglasses']"
   ]
  },
  {
   "cell_type": "code",
   "execution_count": 9,
   "metadata": {},
   "outputs": [
    {
     "name": "stdout",
     "output_type": "stream",
     "text": [
      "correct:  Not sunglasses model:  Not sunglasses\n"
     ]
    },
    {
     "data": {
      "image/png": "[encoded data removed]",
      "text/plain": [
       "<Figure size 432x288 with 1 Axes>"
      ]
     },
     "metadata": {
      "needs_background": "light"
     },
     "output_type": "display_data"
    }
   ],
   "source": [
    "# Ejemplo de predicción correcta para foto de persona sin gafas\n",
    "img, label = test_set[10]\n",
    "model.to('cpu')\n",
    "out = model(torch.unsqueeze(img, 0))\n",
    "_, index = torch.max(out, dim = 1)\n",
    "\n",
    "print('correct: ', class_names[label], 'model: ', class_names[index])\n",
    "imshow(img)"
   ]
  },
  {
   "cell_type": "code",
   "execution_count": 10,
   "metadata": {},
   "outputs": [
    {
     "name": "stdout",
     "output_type": "stream",
     "text": [
      "correct:  Sunglasses model:  Sunglasses\n"
     ]
    },
    {
     "data": {
      "image/png": "[encoded data removed]",
      "text/plain": [
       "<Figure size 432x288 with 1 Axes>"
      ]
     },
     "metadata": {
      "needs_background": "light"
     },
     "output_type": "display_data"
    }
   ],
   "source": [
    "# Ejemplo de predicción correcta para foto de persona con gafas\n",
    "img, label = test_set[450]\n",
    "model.to('cpu')\n",
    "out = model(torch.unsqueeze(img, 0))\n",
    "_, index = torch.max(out, dim = 1)\n",
    "\n",
    "print('correct: ', class_names[label], 'model: ', class_names[index])\n",
    "imshow(img)"
   ]
  },
  {
   "cell_type": "code",
   "execution_count": null,
   "metadata": {},
   "outputs": [],
   "source": []
  }
 ],
 "metadata": {
  "kernelspec": {
   "display_name": "Python 3",
   "language": "python",
   "name": "python3"
  },
  "language_info": {
   "codemirror_mode": {
    "name": "ipython",
    "version": 3
   },
   "file_extension": ".py",
   "mimetype": "text/x-python",
   "name": "python",
   "nbconvert_exporter": "python",
   "pygments_lexer": "ipython3",
   "version": "3.7.6"
  }
 },
 "nbformat": 4,
 "nbformat_minor": 4
}
